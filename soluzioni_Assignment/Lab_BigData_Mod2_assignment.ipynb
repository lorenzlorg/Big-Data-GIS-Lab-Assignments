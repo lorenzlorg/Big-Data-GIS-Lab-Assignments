{
 "cells": [
  {
   "cell_type": "code",
   "execution_count": 1,
   "metadata": {},
   "outputs": [],
   "source": [
    "#~~~~~~~~~~~~~~~~~~~~~~~~~~~~~~~~~~~~~~~~~~~~~~~~~~~\n",
    "# LAB MODULE 2.\n",
    "# Observational data in climate science\n",
    "#~~~~~~~~~~~~~~~~~~~~~~~~~~~~~~~~~~~~~~~~~~~~~~~~~~~\n",
    "\n",
    "# Topics covered:\n",
    "# (1) Organization of geospatial data in python\n",
    "# (2) Operations in time\n",
    "# (3) Operations in space \n",
    "\n",
    "# The purpose of this exercise is to (partially) replicate the process of \n",
    "# building of a global mean tempertaure anomaly curve from observations \n",
    "\n",
    "# Links: \n",
    "#   https://journals.ametsoc.org/doi/pdf/10.1175/1520-0450%281986%29025%3C0161%3ANHSATV%3E2.0.CO%3B2\n",
    "#   https://www.metoffice.gov.uk/hadobs/crutem4/data/download.html  >>>  CRUTEM.4.6.0.0.station_files.zip"
   ]
  },
  {
   "cell_type": "code",
   "execution_count": 2,
   "metadata": {},
   "outputs": [],
   "source": [
    "#~~~~~~~~~~~~~~~~~~~~~~~~~~~~~~~~~~~~~~~~~~~~~~~~~~~\n",
    "# Exercise 2 (ASSIGNMENT)\n",
    "# Answer the following questions:\n",
    "# 1) What is the difference in the average the global mean temperature anomaly for the last \n",
    "#    30 years of the record, compared to that of the first three decades of the twentieth century ?\n",
    "# 2) Is this difference statistically significant ?\n",
    "# You can use and extend the example from class.\n",
    "#~~~~~~~~~~~~~~~~~~~~~~~~~~~~~~~~~~~~~~~~~~~~~~~~~~~"
   ]
  },
  {
   "cell_type": "code",
   "execution_count": 3,
   "metadata": {},
   "outputs": [],
   "source": [
    "# Libraries\n",
    "\n",
    "import pandas as pd\n",
    "\n",
    "from scipy import stats\n"
   ]
  },
  {
   "cell_type": "code",
   "execution_count": 4,
   "metadata": {},
   "outputs": [
    {
     "data": {
      "text/html": [
       "<div>\n",
       "<style scoped>\n",
       "    .dataframe tbody tr th:only-of-type {\n",
       "        vertical-align: middle;\n",
       "    }\n",
       "\n",
       "    .dataframe tbody tr th {\n",
       "        vertical-align: top;\n",
       "    }\n",
       "\n",
       "    .dataframe thead th {\n",
       "        text-align: right;\n",
       "    }\n",
       "</style>\n",
       "<table border=\"1\" class=\"dataframe\">\n",
       "  <thead>\n",
       "    <tr style=\"text-align: right;\">\n",
       "      <th></th>\n",
       "      <th>gmta</th>\n",
       "    </tr>\n",
       "    <tr>\n",
       "      <th>time</th>\n",
       "      <th></th>\n",
       "    </tr>\n",
       "  </thead>\n",
       "  <tbody>\n",
       "    <tr>\n",
       "      <th>1850-12-31</th>\n",
       "      <td>-0.564252</td>\n",
       "    </tr>\n",
       "    <tr>\n",
       "      <th>1851-12-31</th>\n",
       "      <td>-0.117734</td>\n",
       "    </tr>\n",
       "    <tr>\n",
       "      <th>1852-12-31</th>\n",
       "      <td>-0.329241</td>\n",
       "    </tr>\n",
       "    <tr>\n",
       "      <th>1853-12-31</th>\n",
       "      <td>-0.369994</td>\n",
       "    </tr>\n",
       "    <tr>\n",
       "      <th>1854-12-31</th>\n",
       "      <td>-0.060377</td>\n",
       "    </tr>\n",
       "    <tr>\n",
       "      <th>...</th>\n",
       "      <td>...</td>\n",
       "    </tr>\n",
       "    <tr>\n",
       "      <th>2014-12-31</th>\n",
       "      <td>0.963406</td>\n",
       "    </tr>\n",
       "    <tr>\n",
       "      <th>2015-12-31</th>\n",
       "      <td>1.020377</td>\n",
       "    </tr>\n",
       "    <tr>\n",
       "      <th>2016-12-31</th>\n",
       "      <td>1.453652</td>\n",
       "    </tr>\n",
       "    <tr>\n",
       "      <th>2017-12-31</th>\n",
       "      <td>1.211928</td>\n",
       "    </tr>\n",
       "    <tr>\n",
       "      <th>2018-12-31</th>\n",
       "      <td>1.068350</td>\n",
       "    </tr>\n",
       "  </tbody>\n",
       "</table>\n",
       "<p>169 rows × 1 columns</p>\n",
       "</div>"
      ],
      "text/plain": [
       "                gmta\n",
       "time                \n",
       "1850-12-31 -0.564252\n",
       "1851-12-31 -0.117734\n",
       "1852-12-31 -0.329241\n",
       "1853-12-31 -0.369994\n",
       "1854-12-31 -0.060377\n",
       "...              ...\n",
       "2014-12-31  0.963406\n",
       "2015-12-31  1.020377\n",
       "2016-12-31  1.453652\n",
       "2017-12-31  1.211928\n",
       "2018-12-31  1.068350\n",
       "\n",
       "[169 rows x 1 columns]"
      ]
     },
     "execution_count": 4,
     "metadata": {},
     "output_type": "execute_result"
    }
   ],
   "source": [
    "# Read the global annual mean temparature anomalies time series exported from the main exercise\n",
    "# and set a datetime index\n",
    "\n",
    "gmta = pd.read_csv('gmta_10295_stations')  # temperature medie globali anno per anno\n",
    "\n",
    "gmta = gmta.set_index('time')\n",
    "gmta.index = pd.to_datetime(gmta.index)\n",
    "\n",
    "gmta"
   ]
  },
  {
   "cell_type": "code",
   "execution_count": 5,
   "metadata": {},
   "outputs": [
    {
     "data": {
      "text/plain": [
       "<AxesSubplot:xlabel='time'>"
      ]
     },
     "execution_count": 5,
     "metadata": {},
     "output_type": "execute_result"
    },
    {
     "data": {
      "image/png": "[encoded data removed]",
      "text/plain": [
       "<Figure size 432x288 with 1 Axes>"
      ]
     },
     "metadata": {
      "needs_background": "light"
     },
     "output_type": "display_data"
    }
   ],
   "source": [
    "# Let's slice out the two periods and plot to check\n",
    "\n",
    "gmta_first = gmta['1900-01-31':'1929-12-31']  # prime 3 decadi del secolo\n",
    "\n",
    "gmta_last = gmta.iloc[-30:]  # ultimi 30 anni\n",
    "\n",
    "p0 = gmta.plot(color='grey')\n",
    "gmta_first.plot(ax=p0,color='blue')\n",
    "gmta_last.plot(ax=p0,color='red')"
   ]
  },
  {
   "cell_type": "code",
   "execution_count": 6,
   "metadata": {},
   "outputs": [
    {
     "data": {
      "text/plain": [
       "gmta    0.998128\n",
       "dtype: float64"
      ]
     },
     "execution_count": 6,
     "metadata": {},
     "output_type": "execute_result"
    }
   ],
   "source": [
    "# con i prossimi step confermiamo la differenza che possiamo vedere anche visivamente\n",
    "\n",
    "# Calculate the difference in mean temperature between the two periods\n",
    "\n",
    "diff = gmta_last.mean() - gmta_first.mean()  # la temperatura è aumentata di 1 grado centigrado\n",
    "diff"
   ]
  },
  {
   "cell_type": "code",
   "execution_count": 7,
   "metadata": {},
   "outputs": [
    {
     "data": {
      "text/plain": [
       "Ttest_indResult(statistic=array([14.59593888]), pvalue=array([1.66620609e-18]))"
      ]
     },
     "execution_count": 7,
     "metadata": {},
     "output_type": "execute_result"
    }
   ],
   "source": [
    "# Then perform a hypothesis test for difference in the mean (e.g. Student's t test)\n",
    "\n",
    "# If the p-value is smaller than the threshold, e.g. 1%, 5% or 10%, \n",
    "#  then we reject the null hypothesis of equal averages.\n",
    "\n",
    "tt = stats.ttest_ind(gmta_last, gmta_first, equal_var = False)\n",
    "tt\n",
    "\n",
    "# le due medie non sono uguali"
   ]
  }
 ],
 "metadata": {
  "kernelspec": {
   "display_name": "Python 3",
   "language": "python",
   "name": "python3"
  },
  "language_info": {
   "codemirror_mode": {
    "name": "ipython",
    "version": 3
   },
   "file_extension": ".py",
   "mimetype": "text/x-python",
   "name": "python",
   "nbconvert_exporter": "python",
   "pygments_lexer": "ipython3",
   "version": "3.8.3"
  }
 },
 "nbformat": 4,
 "nbformat_minor": 4
}